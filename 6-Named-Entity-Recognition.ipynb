{
 "cells": [
  {
   "cell_type": "markdown",
   "metadata": {},
   "source": [
    "## Named Entity Recognition\n",
    "- Named Entity Recognition **identifies and classifies key entities** in text into predefined categories such as:\n",
    "\n",
    "    - Person (e.g., \"Albert Einstein\"),\n",
    "    - Organization (e.g., \"Google\"),\n",
    "    - Location (e.g., \"New York\"),\n",
    "    - Date/Time (e.g., \"2024-11-23\"),\n",
    "    - Monetary Values (e.g., \"$100\"),\n",
    "    - Miscellaneous (custom categories like product names, scientific terms, etc.).\n",
    "\n",
    "- Helps to extract **stuctured information from unstructured text**, enabling systems to understand the 'who', 'what' amd 'where' in data.\n",
    "- Used in **question answering, chatbots, machine translation, and summarization**.\n",
    "\n",
    "### How Does NER Work?\n",
    "\n",
    "NER combines:\n",
    "\n",
    "1. **Tokenization**: Splitting text into words or phrases.\n",
    "2. **Part of Speech (POS) Tagging**: To understand the syntactic role of tokens.\n",
    "3. **Entity Recognition Models**:\n",
    "    - Rule-Based: Uses handcrafted rules and regular expressions.\n",
    "    - Statistical: Uses machine learning techniques like CRF, HMM, or neural networks.\n",
    "    - Pre-trained Models: Modern deep learning models such as BERT and spaCy.\n"
   ]
  },
  {
   "cell_type": "code",
   "execution_count": 2,
   "metadata": {},
   "outputs": [
    {
     "data": {
      "text/plain": [
       "'\\nPerson Eg: Shubham Prajapati\\nPlace Or Location Eg: India\\nDate Eg: September,24-09-1989\\nTime  Eg: 4:30pm\\nMoney Eg: 1 million dollar\\nOrganization Eg: Ideyalabs\\nPercent Eg: 20%, twenty percent\\n'"
      ]
     },
     "execution_count": 2,
     "metadata": {},
     "output_type": "execute_result"
    }
   ],
   "source": [
    "sentence=\"The Eiffel Tower was built from 1887 to 1889 by French engineer Gustave Eiffel, whose company specialized in building metal frameworks and structures.\"\n",
    "\"\"\"\n",
    "Person Eg: Shubham Prajapati\n",
    "Place Or Location Eg: India\n",
    "Date Eg: September,24-09-1989\n",
    "Time  Eg: 4:30pm\n",
    "Money Eg: 1 million dollar\n",
    "Organization Eg: Ideyalabs\n",
    "Percent Eg: 20%, twenty percent\n",
    "\"\"\""
   ]
  },
  {
   "cell_type": "code",
   "execution_count": 6,
   "metadata": {},
   "outputs": [
    {
     "data": {
      "text/plain": [
       "['The',\n",
       " 'Eiffel',\n",
       " 'Tower',\n",
       " 'was',\n",
       " 'built',\n",
       " 'from',\n",
       " '1887',\n",
       " 'to',\n",
       " '1889',\n",
       " 'by',\n",
       " 'French',\n",
       " 'engineer',\n",
       " 'Gustave',\n",
       " 'Eiffel',\n",
       " ',',\n",
       " 'whose',\n",
       " 'company',\n",
       " 'specialized',\n",
       " 'in',\n",
       " 'building',\n",
       " 'metal',\n",
       " 'frameworks',\n",
       " 'and',\n",
       " 'structures',\n",
       " '.']"
      ]
     },
     "execution_count": 6,
     "metadata": {},
     "output_type": "execute_result"
    }
   ],
   "source": [
    "import nltk\n",
    "words = nltk.word_tokenize(sentence)\n",
    "words"
   ]
  },
  {
   "cell_type": "code",
   "execution_count": 4,
   "metadata": {},
   "outputs": [],
   "source": [
    "tag_elements = nltk.pos_tag(words)"
   ]
  },
  {
   "cell_type": "code",
   "execution_count": 7,
   "metadata": {},
   "outputs": [],
   "source": [
    "## Named-Entity\n",
    "import numpy\n",
    "nltk.ne_chunk(tag_elements).draw()"
   ]
  }
 ],
 "metadata": {
  "kernelspec": {
   "display_name": "nlpvenv",
   "language": "python",
   "name": "python3"
  },
  "language_info": {
   "codemirror_mode": {
    "name": "ipython",
    "version": 3
   },
   "file_extension": ".py",
   "mimetype": "text/x-python",
   "name": "python",
   "nbconvert_exporter": "python",
   "pygments_lexer": "ipython3",
   "version": "3.10.0"
  }
 },
 "nbformat": 4,
 "nbformat_minor": 2
}
