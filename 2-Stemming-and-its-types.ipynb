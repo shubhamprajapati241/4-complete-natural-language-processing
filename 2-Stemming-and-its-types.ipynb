{
 "cells": [
  {
   "cell_type": "markdown",
   "metadata": {},
   "source": [
    "## Stemming \n",
    "- Stemming is the process of reducing a word to its word stem that affixes to suffixes and prefixes or to the root of words known as a lemma.\n",
    "- Stemming is important in Natual Language Understanding (NLU) and Natural Language Processing (NLP)"
   ]
  },
  {
   "cell_type": "code",
   "execution_count": 1,
   "metadata": {},
   "outputs": [],
   "source": [
    "## Use-case : Comments of product is a positive review or negative review \n",
    "# Eating, Eats, Eaten -> Eat\n",
    "# Going, Gone, Goes -> Go\n",
    "\n",
    "words=[\"eating\",\"eats\",\"eaten\",\"writing\",\"writes\",\"programming\",\"programs\",\"history\",\"finally\",\"finalized\", \"congratualisation\"]"
   ]
  },
  {
   "cell_type": "markdown",
   "metadata": {},
   "source": [
    "### PorterStemmer \n"
   ]
  },
  {
   "cell_type": "code",
   "execution_count": 2,
   "metadata": {},
   "outputs": [
    {
     "name": "stdout",
     "output_type": "stream",
     "text": [
      "eating---->eat\n",
      "eats---->eat\n",
      "eaten---->eaten\n",
      "writing---->write\n",
      "writes---->write\n",
      "programming---->program\n",
      "programs---->program\n",
      "history---->histori\n",
      "finally---->final\n",
      "finalized---->final\n",
      "congratualisation---->congratualis\n"
     ]
    }
   ],
   "source": [
    "from nltk.stem import PorterStemmer\n",
    "porterStemmer = PorterStemmer()\n",
    "\n",
    "for word in words:\n",
    "    print(word +\"---->\"+porterStemmer.stem(word))\n",
    "\n",
    "# history---->histori (No meaning)\n",
    "# congratualisation---->congratualis  (No meaning)"
   ]
  },
  {
   "cell_type": "markdown",
   "metadata": {},
   "source": [
    "### RegexpStemmer class\n",
    "NLTK has RegexpStemmer class with the help of which we can easily implement Regular Expression Stemmer algorithms. It basically takes a single regular expression and removes any prefix or suffix that matches the expression. Let us see an example"
   ]
  },
  {
   "cell_type": "code",
   "execution_count": 3,
   "metadata": {},
   "outputs": [
    {
     "name": "stdout",
     "output_type": "stream",
     "text": [
      "eating ->  eat\n",
      "ingeating ->  ingeat\n"
     ]
    }
   ],
   "source": [
    "from nltk.stem import RegexpStemmer \n",
    "reg_stemmer = RegexpStemmer(\"ing$|s$|e$|able$\", min=4)  # ($) - remove from end \n",
    "print(\"eating -> \",reg_stemmer.stem(\"eating\"))\n",
    "print(\"ingeating -> \",reg_stemmer.stem(\"ingeating\")) # Not meaning"
   ]
  },
  {
   "cell_type": "code",
   "execution_count": 4,
   "metadata": {},
   "outputs": [
    {
     "name": "stdout",
     "output_type": "stream",
     "text": [
      "eating ->  eat\n",
      "ingeating ->  eat\n"
     ]
    }
   ],
   "source": [
    "reg_stemmer = RegexpStemmer(\"ing|s$|e$|able$\", min=4) # remove from whole word\n",
    "print(\"eating -> \",reg_stemmer.stem(\"eating\")) \n",
    "print(\"ingeating -> \",reg_stemmer.stem(\"ingeating\")) # Not meaning"
   ]
  },
  {
   "cell_type": "markdown",
   "metadata": {},
   "source": [
    "### Snowball Stemmer\n",
    " It is a stemming algorithm which is also known as the Porter2 stemming algorithm as it is a better version of the Porter Stemmer since some issues of it were fixed in this stemmer."
   ]
  },
  {
   "cell_type": "code",
   "execution_count": 5,
   "metadata": {},
   "outputs": [
    {
     "name": "stdout",
     "output_type": "stream",
     "text": [
      "eating ---> eat\n",
      "eats ---> eat\n",
      "eaten ---> eaten\n",
      "writing ---> write\n",
      "writes ---> write\n",
      "programming ---> program\n",
      "programs ---> program\n",
      "history ---> histori\n",
      "finally ---> final\n",
      "finalized ---> final\n",
      "congratualisation ---> congratualis\n"
     ]
    }
   ],
   "source": [
    "from nltk.stem import SnowballStemmer \n",
    "snowballStemmer = SnowballStemmer(\"english\")\n",
    "\n",
    "for word in words:\n",
    "    print(word+\" ---> \"+snowballStemmer.stem(word))"
   ]
  },
  {
   "cell_type": "code",
   "execution_count": 6,
   "metadata": {},
   "outputs": [
    {
     "data": {
      "text/plain": [
       "('fair', 'sport')"
      ]
     },
     "execution_count": 6,
     "metadata": {},
     "output_type": "execute_result"
    }
   ],
   "source": [
    "# SnowballStemmer -> Words well for words like  \n",
    "snowballStemmer.stem(\"fairly\"),snowballStemmer.stem(\"sportingly\")"
   ]
  },
  {
   "cell_type": "code",
   "execution_count": 7,
   "metadata": {},
   "outputs": [
    {
     "data": {
      "text/plain": [
       "('fairli', 'sportingli')"
      ]
     },
     "execution_count": 7,
     "metadata": {},
     "output_type": "execute_result"
    }
   ],
   "source": [
    "porterStemmer.stem(\"fairly\"),porterStemmer.stem(\"sportingly\")"
   ]
  },
  {
   "cell_type": "code",
   "execution_count": 8,
   "metadata": {},
   "outputs": [
    {
     "data": {
      "text/plain": [
       "'goe'"
      ]
     },
     "execution_count": 8,
     "metadata": {},
     "output_type": "execute_result"
    }
   ],
   "source": [
    "snowballStemmer.stem('goes') # No meaning"
   ]
  }
 ],
 "metadata": {
  "kernelspec": {
   "display_name": "nlpvenv",
   "language": "python",
   "name": "python3"
  },
  "language_info": {
   "codemirror_mode": {
    "name": "ipython",
    "version": 3
   },
   "file_extension": ".py",
   "mimetype": "text/x-python",
   "name": "python",
   "nbconvert_exporter": "python",
   "pygments_lexer": "ipython3",
   "version": "3.10.0"
  }
 },
 "nbformat": 4,
 "nbformat_minor": 2
}
